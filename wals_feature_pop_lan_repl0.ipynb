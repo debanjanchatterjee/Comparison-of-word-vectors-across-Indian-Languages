{
 "cells": [
  {
   "cell_type": "code",
   "execution_count": 1,
   "metadata": {},
   "outputs": [],
   "source": [
    "import csv\n",
    "import pandas as pd\n",
    "import os"
   ]
  },
  {
   "cell_type": "code",
   "execution_count": 2,
   "metadata": {},
   "outputs": [],
   "source": [
    "def calculateCosineSimilarity(d1, d2):\n",
    "    cos_sim = np.dot(d1, d2)/(np.linalg.norm(d1)*np.linalg.norm(d2))\n",
    "    return cos_sim"
   ]
  },
  {
   "cell_type": "code",
   "execution_count": 3,
   "metadata": {},
   "outputs": [
    {
     "name": "stdout",
     "output_type": "stream",
     "text": [
      "2681\n",
      "202\n",
      "202\n",
      "202\n",
      "202\n",
      "202\n",
      "202\n",
      "202\n",
      "202\n",
      "202\n"
     ]
    }
   ],
   "source": [
    "fin='language.csv'\n",
    "dataset=[]\n",
    "upd_dataset=[]\n",
    "cnt=0\n",
    "with open(fin,errors='ignore') as file:\n",
    "    reader = csv.reader(file)\n",
    "    data = list(reader)\n",
    "#     print(data)\n",
    "#     dataset.append(data)\n",
    "#     cnt+=1\n",
    "#     if cnt>=1:\n",
    "#         break\n",
    "# #     dataset.append(data)\n",
    "    \n",
    "print(len(data))\n",
    "\n",
    "wals_lan=['ben','hin','tel','tml','guj','mhi','pan','mym','knd']\n",
    "lan_dict=dict()\n",
    "for row in data:\n",
    "    wals_code=row[0]\n",
    "    if wals_code in wals_lan:\n",
    "        cur_features=list()\n",
    "        for i in range(10,len(row)):\n",
    "            l=row[i].split()\n",
    "            if len(l)>1:\n",
    "                cur_features.append(int(l[0]))\n",
    "            else:\n",
    "                cur_features.append(int(0))\n",
    "\n",
    "                  \n",
    "                                    \n",
    "        print(len(row))\n",
    "                \n",
    "        lan_dict[wals_code]=cur_features\n",
    "             \n",
    "# print(lan_dict)            \n"
   ]
  },
  {
   "cell_type": "code",
   "execution_count": 4,
   "metadata": {},
   "outputs": [
    {
     "name": "stdout",
     "output_type": "stream",
     "text": [
      "{'id': 'ascii_name', 'akb': 'akabiada', 'akc': 'akacari', 'akk': 'akakede', 'agm': 'angami', 'ao': 'ao', 'apt': 'apatani', 'apk': 'apucikwar', 'ass': 'assamese', 'awd': 'awadhi', 'bdg': 'badaga', 'bgi': 'bagri', 'blt': 'balti', 'baw': 'bawm', 'ben': 'bengali', 'bkb': 'betta kurumba', 'bhi': 'bhili', 'bho': 'bhojpuri', 'bhu': 'bhumij', 'bod': 'bodo', 'boq': 'bokar', 'boj': 'bori', 'bkt': 'brokskat', 'bgn': 'bugun', 'ghr': 'bunan', 'bya': 'byansi', 'chg': 'chang', 'chd': 'chaudangsi', 'cmr': 'chin mara', 'drm': 'darma', 'deu': 'deuri', 'dig': 'digaro', 'dms': 'dimasa', 'dgi': 'dogri', 'gdk': 'gadaba kondekor', 'gal': 'galo', 'gar': 'garo', 'goj': 'gojri', 'gon': 'gondi', 'gan': 'great andamanese', 'guj': 'gujarati', 'gdb': 'gutob', 'hlb': 'halbi', 'hin': 'hindi', 'hma': 'hmar', 'ho': 'ho', 'idu': 'idu', 'ipi': 'indopakistani sign language indian dialects', 'jad': 'jad', 'jrw': 'jarawa in andamans', 'joh': 'johari', 'jun': 'juang', 'jug': 'jugli', 'kbi': 'kabui', 'kac': 'kachari', 'xns': 'kanashi', 'knd': 'kannada', 'kas': 'kashmiri', 'khg': 'khaling', 'khr': 'kharia', 'khs': 'khasi', 'knn': 'kinnauri', 'kod': 'kodava', 'kok': 'kokborok', 'kkz': 'kokni', 'kol': 'kolami', 'kda': 'konda', 'kkn': 'konkani', 'kku': 'korku', 'kot': 'kota', 'koy': 'koya', 'kui': 'kui in india', 'kum': 'kumauni', 'kur': 'kurukh', 'kuv': 'kuvi', 'lad': 'ladakhi', 'lmn': 'lamani', 'lep': 'lepcha', 'lim': 'limbu', 'lot': 'lotha', 'lun': 'lungchang', 'mgh': 'magahi', 'mai': 'maithili', 'mym': 'malayalam', 'mto': 'malto', 'mhi': 'marathi', 'mrc': 'marchha', 'mwc': 'mawchi', 'mei': 'meithei', 'mij': 'miju', 'mik': 'mikir', 'mil': 'milang', 'mhl': 'miri hill', 'msg': 'mising', 'miz': 'mizo', 'mun': 'mundari', 'nma': 'naga mao', 'npn': 'naga pidgin', 'ngt': 'naga tangkhul', 'nze': 'naga zeme', 'nah': 'nahali', 'nnc': 'nancowry', 'nic': 'nicobarese', 'nca': 'nicobarese car', 'noc': 'nocte', 'nyk': 'nyamkad', 'nis': 'nyishi', 'ong': 'onge', 'oya': 'oriya', 'oko': 'oriya kotia', 'pte': 'paite', 'pan': 'panjabi', 'prd': 'parji dravidian', 'ptt': 'pattani', 'pen': 'pengo', 'prk': 'purki', 'rji': 'raji', 'ral': 'ralte', 'rem': 'remo', 'stl': 'santali', 'sem': 'sema', 'skw': 'shekhawati', 'shd': 'sherdukpen', 'smp': 'shompen', 'skk': 'sikkimese', 'sdh': 'sindhi', 'sor': 'sora', 'spi': 'spitian', 'slg': 'sulung', 'tml': 'tamil', 'tsp': 'tamil spoken', 'tao': 'tarao', 'tel': 'telugu', 'thd': 'thadou', 'tni': 'tinani', 'tod': 'tod', 'tda': 'toda', 'tgl': 'tshangla', 'tul': 'tulu', 'tvt': 'tutsa', 'vas': 'vasavi'}\n"
     ]
    }
   ],
   "source": [
    "fin='indian_languages.csv'\n",
    "ind_data=[]\n",
    "with open(fin,errors='ignore') as file:\n",
    "    reader = csv.reader(file)\n",
    "    ind_data=list(reader)\n",
    "\n",
    "ind_lan_dict=dict()   \n",
    "for row in ind_data:\n",
    "    ind_lan_dict[row[3]]=row[0]\n",
    "print(ind_lan_dict)\n",
    "    "
   ]
  },
  {
   "cell_type": "code",
   "execution_count": 5,
   "metadata": {},
   "outputs": [
    {
     "name": "stdout",
     "output_type": "stream",
     "text": [
      "Cosine similarity between ben and guj - 0.46\n",
      "Cosine similarity between ben and hin - 0.49\n",
      "Cosine similarity between ben and knd - 0.56\n",
      "Cosine similarity between ben and mhi - 0.45\n",
      "Cosine similarity between ben and mym - 0.59\n",
      "Cosine similarity between ben and pan - 0.29\n",
      "Cosine similarity between ben and tel - 0.62\n",
      "Cosine similarity between ben and tml - 0.54\n",
      "Cosine similarity between guj and hin - 0.55\n",
      "Cosine similarity between guj and knd - 0.45\n",
      "Cosine similarity between guj and mhi - 0.4\n",
      "Cosine similarity between guj and mym - 0.57\n",
      "Cosine similarity between guj and pan - 0.57\n",
      "Cosine similarity between guj and tel - 0.54\n",
      "Cosine similarity between guj and tml - 0.55\n",
      "Cosine similarity between hin and knd - 0.7\n",
      "Cosine similarity between hin and mhi - 0.51\n",
      "Cosine similarity between hin and mym - 0.46\n",
      "Cosine similarity between hin and pan - 0.68\n",
      "Cosine similarity between hin and tel - 0.45\n",
      "Cosine similarity between hin and tml - 0.56\n",
      "Cosine similarity between knd and mhi - 0.65\n",
      "Cosine similarity between knd and mym - 0.77\n",
      "Cosine similarity between knd and pan - 0.61\n",
      "Cosine similarity between knd and tel - 0.75\n",
      "Cosine similarity between knd and tml - 0.8\n",
      "Cosine similarity between mhi and mym - 0.66\n",
      "Cosine similarity between mhi and pan - 0.59\n",
      "Cosine similarity between mhi and tel - 0.63\n",
      "Cosine similarity between mhi and tml - 0.65\n",
      "Cosine similarity between mym and pan - 0.53\n",
      "Cosine similarity between mym and tel - 0.77\n",
      "Cosine similarity between mym and tml - 0.78\n",
      "Cosine similarity between pan and tel - 0.45\n",
      "Cosine similarity between pan and tml - 0.64\n",
      "Cosine similarity between tel and tml - 0.8\n"
     ]
    }
   ],
   "source": [
    "import matplotlib.pyplot as plt\n",
    "from sklearn.datasets import load_digits\n",
    "from sklearn.decomposition import PCA\n",
    "from sklearn.cluster import KMeans\n",
    "from sklearn import preprocessing\n",
    "from sklearn.preprocessing import StandardScaler\n",
    "from sklearn.preprocessing import MinMaxScaler\n",
    "import numpy as np\n",
    "from scipy.cluster.hierarchy import dendrogram\n",
    "from sklearn.cluster import AgglomerativeClustering\n",
    "\n",
    "dataset=[]\n",
    "lan_names=[]\n",
    "lan_codes=[]\n",
    "for lan in lan_dict:\n",
    "    lan_codes.append(lan)\n",
    "    lan_names.append(ind_lan_dict[lan])\n",
    "    fv=lan_dict[lan]\n",
    "    dataset.append(fv)\n",
    "\n",
    "dataset_array=np.array(dataset)\n",
    "\n",
    "# print(dataset_array)\n",
    "# scaler = StandardScaler()\n",
    "\n",
    "# scaler.fit(dataset_array)\n",
    "# print(scaler.mean_)\n",
    "# dataset_array=scaler.transform(dataset_array)\n",
    "# print(dataset_array)\n",
    "\n",
    "\n",
    "\n",
    "# print(dataset_array)\n",
    "# scaler = MinMaxScaler()\n",
    "\n",
    "# scaler.fit(dataset_array)\n",
    "# print(scaler.data_max_)\n",
    "# dataset_array=scaler.transform(dataset_array)\n",
    "# print(dataset_array)\n",
    "\n",
    "\n",
    "# dataset_array = preprocessing.scale(dataset_array)\n",
    "# print(dataset_array)\n",
    "# print('Bengali -Hindi',calculateCosineSimilarity(dataset_array[0],dataset_array[1]))\n",
    "# print('Bengali-  Telegu',calculateCosineSimilarity(dataset_array[0],dataset_array[2]))\n",
    "# print('Hindi - Telegu',calculateCosineSimilarity(dataset_array[1],dataset_array[2]))\n",
    "\n",
    "for i in range(0,len(dataset_array)):\n",
    "    for j in range(0,len(dataset_array)):\n",
    "        if i<j:\n",
    "            print('Cosine similarity between',lan_codes[i],'and',lan_codes[j],'-',round(calculateCosineSimilarity(dataset_array[i],dataset_array[j]),2))\n",
    "                "
   ]
  },
  {
   "cell_type": "code",
   "execution_count": 6,
   "metadata": {},
   "outputs": [
    {
     "name": "stdout",
     "output_type": "stream",
     "text": [
      "[0 1 1 0 0 0 1 0 0]\n",
      "['ben', 'guj', 'hin', 'knd', 'mhi', 'mym', 'pan', 'tel', 'tml']\n"
     ]
    }
   ],
   "source": [
    "#Import KMeans module\n",
    "from sklearn.cluster import KMeans\n",
    " \n",
    "#Initialize the class object\n",
    "kmeans = KMeans(n_clusters= 2)\n",
    " \n",
    "#predict the labels of clusters.\n",
    "label = kmeans.fit_predict(dataset_array)\n",
    "print(label)\n",
    "print(lan_codes)"
   ]
  },
  {
   "cell_type": "code",
   "execution_count": 7,
   "metadata": {},
   "outputs": [
    {
     "name": "stdout",
     "output_type": "stream",
     "text": [
      "[0 0 0 1 0 1 0 1 1]\n",
      "[0 0 2 1 0 1 0 1 1]\n",
      "[3 3 2 0 1 0 1 0 0]\n",
      "[1 1 2 4 0 3 0 3 3]\n",
      "[0 0 5 4 2 1 3 1 1]\n",
      "[6 3 5 4 2 0 1 0 0]\n"
     ]
    }
   ],
   "source": [
    "from sklearn.cluster import AgglomerativeClustering\n",
    "\n",
    "for i in range(2,8):\n",
    "    clustering = AgglomerativeClustering(n_clusters= i).fit(dataset_array)\n",
    "    print(clustering.labels_)\n"
   ]
  },
  {
   "cell_type": "code",
   "execution_count": 8,
   "metadata": {},
   "outputs": [],
   "source": [
    "def plot_dendrogram(model, **kwargs):\n",
    "    # Create linkage matrix and then plot the dendrogram\n",
    "\n",
    "    # create the counts of samples under each node\n",
    "    counts = np.zeros(model.children_.shape[0])\n",
    "    n_samples = len(model.labels_)\n",
    "    for i, merge in enumerate(model.children_):\n",
    "        current_count = 0\n",
    "        for child_idx in merge:\n",
    "            if child_idx < n_samples:\n",
    "                current_count += 1  # leaf node\n",
    "            else:\n",
    "                current_count += counts[child_idx - n_samples]\n",
    "        counts[i] = current_count\n",
    "\n",
    "    linkage_matrix = np.column_stack(\n",
    "        [model.children_, model.distances_, counts]\n",
    "    ).astype(float)\n",
    "\n",
    "    # Plot the corresponding dendrogram\n",
    "    dendrogram(linkage_matrix, **kwargs)"
   ]
  },
  {
   "cell_type": "code",
   "execution_count": 9,
   "metadata": {},
   "outputs": [
    {
     "name": "stdout",
     "output_type": "stream",
     "text": [
      "[6 7 5 4 2 8 3 1 0]\n"
     ]
    },
    {
     "data": {
      "image/png": "[encoded data removed]",
      "text/plain": [
       "<Figure size 1080x1080 with 1 Axes>"
      ]
     },
     "metadata": {
      "needs_background": "light"
     },
     "output_type": "display_data"
    }
   ],
   "source": [
    "plt.rcParams[\"figure.figsize\"] = (15,15)\n",
    "model = AgglomerativeClustering(distance_threshold=0, n_clusters=None)\n",
    "\n",
    "model = model.fit(dataset_array)\n",
    "print(model.labels_)\n",
    "plt.title(\"Hierarchical Clustering Dendrogram\")\n",
    "# plot the top three levels of the dendrogram\n",
    "plot_dendrogram(model, truncate_mode=\"level\", p=4, labels=lan_names)\n",
    "plt.xlabel(\"Number of points in node (or index of point if no parenthesis).\")\n",
    "plt.savefig('.//outputs//cluster_repl0')\n",
    "plt.show()"
   ]
  },
  {
   "cell_type": "code",
   "execution_count": 10,
   "metadata": {},
   "outputs": [],
   "source": [
    "import math\n",
    "\n",
    "output=[]\n",
    "for i in range(0,len(dataset_array)):\n",
    "    for j in range(0,len(dataset_array)):\n",
    "        if i<j:\n",
    "            val=round(calculateCosineSimilarity(dataset_array[i],dataset_array[j]),2)\n",
    "            if math.isnan(val)==False:\n",
    "                s='Cosine similarity between '+lan_names[i]+' and '+lan_names[j]+' - '+str(val)\n",
    "                output.append(s)\n",
    "                \n",
    "with open('.//outputs//language_cosine_similarity.txt', 'w') as f:\n",
    "    for item in output:\n",
    "        f.write(\"%s\\n\" % item)"
   ]
  },
  {
   "cell_type": "code",
   "execution_count": null,
   "metadata": {},
   "outputs": [],
   "source": []
  },
  {
   "cell_type": "code",
   "execution_count": null,
   "metadata": {},
   "outputs": [],
   "source": []
  }
 ],
 "metadata": {
  "kernelspec": {
   "display_name": "Python 3",
   "language": "python",
   "name": "python3"
  },
  "language_info": {
   "codemirror_mode": {
    "name": "ipython",
    "version": 3
   },
   "file_extension": ".py",
   "mimetype": "text/x-python",
   "name": "python",
   "nbconvert_exporter": "python",
   "pygments_lexer": "ipython3",
   "version": "3.8.5"
  }
 },
 "nbformat": 4,
 "nbformat_minor": 4
}
