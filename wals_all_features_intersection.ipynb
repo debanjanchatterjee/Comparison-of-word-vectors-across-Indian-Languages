{
 "cells": [
  {
   "cell_type": "code",
   "execution_count": 1,
   "metadata": {},
   "outputs": [],
   "source": [
    "import csv\n",
    "import pandas as pd\n",
    "import os"
   ]
  },
  {
   "cell_type": "code",
   "execution_count": 2,
   "metadata": {},
   "outputs": [],
   "source": [
    "def calculateCosineSimilarity(d1, d2):\n",
    "    cos_sim = np.dot(d1, d2)/(np.linalg.norm(d1)*np.linalg.norm(d2))\n",
    "    return cos_sim"
   ]
  },
  {
   "cell_type": "code",
   "execution_count": 3,
   "metadata": {},
   "outputs": [
    {
     "name": "stdout",
     "output_type": "stream",
     "text": [
      "2681\n",
      "{'ben': [4, 3, 3, 2, 2, 1, 1, 2, 0, 0, 1, 3, 1, 2, 8, 1, 5, 1, 1, 0, 0, 0, 0, 0, 0, 0, 0, 0, 0, 0, 0, 0, 0, 0, 0, 2, 0, 0, 0, 0, 0, 0, 0, 0, 0, 0, 1, 0, 0, 0, 1, 0, 6, 2, 3, 0, 0, 0, 0, 0, 0, 0, 0, 0, 2, 1, 1, 3, 0, 0, 0, 0, 0, 0, 0, 0, 0, 0, 3, 1, 1, 1, 1, 3, 0, 0, 0, 0, 0, 0, 0, 0, 0, 0, 0, 0, 0, 0, 0, 0, 0, 0, 0, 0, 0, 0, 0, 0, 0, 0, 0, 2, 0, 0, 0, 0, 2, 2, 2, 2, 0, 0, 0, 1, 0, 0, 0, 0, 0, 0, 0, 0, 0, 0, 0, 0, 0, 1, 0, 0, 0, 1, 1, 0, 0, 0, 4, 0, 0, 1, 0, 8, 0, 0, 0, 0, 8, 0, 0, 0, 0, 0, 4, 0, 0, 0, 0, 0, 4, 0, 0, 2, 0, 0, 4, 4, 0, 0, 0, 4, 0, 0, 0, 0, 0, 0, 0, 0, 0, 0, 0, 5], 'guj': [0, 0, 0, 0, 0, 0, 0, 0, 3, 0, 0, 0, 0, 1, 3, 5, 0, 0, 0, 0, 0, 0, 0, 0, 0, 0, 0, 0, 0, 0, 0, 0, 0, 6, 0, 0, 0, 0, 0, 0, 0, 0, 0, 0, 0, 0, 1, 0, 0, 0, 0, 0, 6, 0, 0, 0, 0, 0, 0, 0, 0, 0, 0, 1, 0, 0, 0, 0, 2, 1, 0, 0, 2, 0, 0, 0, 0, 0, 0, 0, 1, 1, 1, 0, 1, 0, 1, 1, 1, 0, 1, 6, 2, 1, 1, 0, 1, 0, 0, 0, 0, 0, 0, 0, 0, 0, 0, 0, 0, 0, 2, 2, 0, 0, 1, 6, 0, 0, 0, 0, 0, 0, 0, 0, 0, 0, 0, 0, 0, 0, 0, 0, 0, 0, 0, 0, 0, 1, 0, 0, 0, 0, 4, 0, 0, 0, 4, 0, 0, 11, 0, 7, 0, 0, 0, 0, 1, 0, 0, 0, 0, 0, 3, 0, 0, 0, 0, 0, 1, 0, 0, 1, 0, 0, 4, 3, 0, 0, 0, 4, 0, 0, 0, 0, 0, 0, 0, 0, 0, 0, 0, 0], 'hin': [5, 2, 4, 4, 2, 1, 1, 2, 3, 1, 1, 3, 1, 1, 4, 4, 0, 1, 1, 1, 1, 2, 3, 2, 5, 2, 1, 3, 2, 2, 2, 3, 2, 6, 4, 4, 5, 5, 3, 1, 0, 0, 2, 6, 3, 3, 1, 2, 0, 0, 1, 2, 6, 2, 1, 3, 0, 2, 1, 6, 6, 2, 1, 1, 1, 1, 1, 3, 2, 1, 2, 4, 2, 2, 1, 2, 1, 1, 3, 1, 1, 1, 1, 0, 1, 1, 1, 1, 1, 4, 1, 1, 2, 1, 1, 5, 1, 5, 5, 2, 0, 2, 2, 1, 1, 2, 1, 3, 8, 2, 2, 2, 3, 3, 1, 1, 1, 2, 2, 1, 1, 2, 2, 1, 0, 2, 2, 1, 0, 0, 1, 0, 0, 0, 0, 2, 1, 1, 0, 0, 0, 1, 4, 0, 0, 0, 4, 0, 0, 11, 0, 7, 0, 1, 0, 0, 1, 0, 0, 0, 0, 0, 3, 0, 0, 0, 0, 0, 1, 0, 0, 1, 0, 0, 4, 3, 0, 0, 0, 4, 0, 0, 1, 2, 5, 0, 2, 2, 4, 0, 1, 5], 'knd': [4, 2, 2, 2, 2, 1, 1, 2, 3, 2, 1, 3, 1, 0, 0, 0, 0, 1, 1, 1, 1, 2, 2, 2, 2, 2, 1, 4, 2, 3, 2, 2, 2, 5, 7, 3, 0, 2, 3, 3, 2, 3, 3, 2, 3, 1, 1, 2, 6, 2, 1, 2, 5, 2, 1, 3, 4, 2, 1, 0, 0, 6, 1, 2, 2, 1, 1, 3, 2, 1, 4, 1, 2, 2, 1, 1, 2, 2, 1, 1, 1, 1, 1, 0, 1, 1, 1, 1, 1, 7, 1, 2, 2, 5, 1, 5, 1, 2, 2, 2, 2, 2, 2, 1, 1, 2, 1, 3, 1, 2, 2, 1, 2, 5, 1, 1, 1, 2, 2, 2, 0, 4, 4, 1, 3, 3, 3, 2, 2, 2, 1, 0, 0, 0, 0, 1, 1, 0, 0, 0, 0, 2, 2, 4, 0, 0, 4, 0, 0, 2, 0, 20, 0, 2, 0, 0, 8, 0, 0, 0, 0, 0, 0, 0, 0, 0, 0, 0, 4, 0, 0, 4, 0, 0, 4, 6, 0, 0, 0, 4, 0, 0, 2, 1, 4, 0, 2, 1, 4, 0, 1, 5], 'mhi': [0, 0, 0, 0, 0, 0, 0, 0, 0, 0, 0, 0, 0, 0, 0, 0, 0, 0, 0, 0, 0, 0, 0, 0, 0, 2, 0, 0, 0, 3, 2, 3, 0, 0, 0, 0, 5, 5, 0, 0, 2, 1, 2, 0, 3, 1, 1, 0, 5, 2, 1, 1, 0, 2, 1, 3, 0, 0, 0, 6, 0, 0, 0, 1, 0, 0, 0, 0, 2, 4, 4, 1, 0, 2, 1, 3, 0, 0, 0, 0, 1, 1, 1, 0, 1, 1, 1, 1, 1, 2, 1, 2, 2, 4, 1, 1, 1, 5, 2, 0, 0, 0, 0, 0, 1, 0, 0, 0, 0, 2, 2, 0, 0, 0, 1, 1, 0, 0, 0, 0, 1, 0, 0, 1, 3, 2, 2, 1, 1, 2, 0, 0, 0, 0, 0, 0, 0, 1, 0, 0, 0, 0, 1, 1, 0, 0, 4, 0, 0, 1, 0, 8, 0, 0, 0, 0, 8, 0, 0, 0, 0, 0, 4, 0, 0, 0, 0, 0, 4, 0, 0, 2, 0, 0, 4, 4, 0, 0, 0, 4, 0, 0, 0, 0, 0, 0, 0, 0, 0, 0, 0, 0], 'mym': [0, 0, 0, 0, 0, 0, 0, 0, 0, 0, 0, 0, 0, 1, 1, 2, 4, 0, 0, 0, 0, 0, 0, 0, 0, 0, 2, 0, 0, 0, 0, 0, 0, 6, 0, 1, 0, 0, 0, 0, 2, 3, 2, 0, 3, 1, 1, 0, 6, 2, 0, 0, 5, 2, 1, 3, 0, 0, 0, 0, 0, 0, 0, 1, 0, 0, 0, 0, 0, 1, 2, 4, 2, 2, 1, 2, 0, 0, 0, 0, 1, 1, 1, 0, 0, 1, 1, 1, 1, 2, 0, 2, 2, 0, 0, 1, 1, 0, 0, 0, 5, 0, 0, 0, 1, 0, 0, 0, 0, 0, 2, 1, 3, 5, 1, 1, 0, 2, 1, 1, 0, 0, 0, 0, 3, 0, 2, 1, 1, 2, 0, 0, 0, 0, 0, 0, 0, 1, 0, 0, 0, 1, 2, 1, 0, 0, 4, 0, 0, 2, 0, 20, 0, 0, 0, 0, 8, 0, 0, 0, 0, 0, 0, 0, 0, 0, 0, 0, 4, 0, 0, 4, 0, 0, 4, 6, 0, 0, 0, 4, 0, 0, 0, 0, 0, 0, 0, 0, 0, 0, 0, 0], 'pan': [0, 0, 0, 0, 0, 0, 0, 0, 0, 0, 0, 0, 0, 0, 0, 0, 0, 0, 0, 0, 0, 0, 0, 0, 0, 2, 1, 0, 0, 2, 2, 3, 2, 6, 0, 1, 5, 5, 0, 0, 2, 1, 2, 0, 2, 3, 1, 0, 2, 6, 1, 0, 0, 0, 0, 3, 0, 0, 0, 0, 0, 2, 0, 0, 1, 1, 1, 3, 2, 1, 2, 0, 2, 2, 1, 3, 0, 0, 0, 0, 1, 1, 1, 0, 1, 1, 1, 1, 1, 7, 1, 1, 2, 1, 1, 5, 1, 0, 0, 0, 2, 0, 0, 0, 0, 0, 0, 3, 8, 0, 2, 2, 0, 0, 0, 1, 0, 0, 0, 0, 0, 0, 0, 0, 3, 2, 2, 1, 2, 2, 0, 0, 0, 0, 0, 0, 0, 1, 0, 0, 0, 0, 4, 3, 0, 0, 4, 0, 0, 11, 0, 7, 0, 0, 0, 0, 1, 0, 0, 0, 0, 0, 3, 0, 2, 0, 0, 0, 1, 0, 0, 1, 0, 0, 4, 3, 0, 0, 0, 4, 0, 0, 0, 0, 5, 0, 0, 0, 4, 0, 0, 0], 'tel': [4, 2, 4, 2, 2, 1, 1, 2, 0, 0, 1, 2, 1, 0, 0, 0, 0, 1, 1, 0, 0, 0, 0, 0, 0, 2, 0, 0, 0, 0, 0, 0, 2, 0, 4, 0, 0, 0, 0, 0, 0, 0, 0, 0, 0, 0, 1, 0, 0, 0, 1, 2, 0, 0, 0, 3, 0, 0, 0, 0, 0, 0, 0, 0, 0, 0, 0, 0, 2, 1, 2, 0, 2, 2, 1, 1, 0, 0, 0, 0, 1, 1, 1, 0, 1, 1, 1, 1, 1, 2, 1, 6, 2, 5, 1, 1, 1, 0, 0, 0, 0, 0, 0, 0, 0, 0, 0, 0, 0, 0, 2, 1, 0, 0, 0, 2, 0, 2, 2, 2, 1, 0, 0, 0, 0, 0, 0, 0, 0, 0, 1, 0, 0, 0, 0, 0, 0, 2, 0, 0, 0, 1, 2, 1, 0, 0, 4, 0, 0, 2, 0, 20, 0, 0, 0, 0, 8, 0, 0, 0, 0, 0, 0, 0, 0, 0, 0, 0, 4, 0, 0, 4, 0, 0, 4, 6, 0, 0, 0, 4, 0, 0, 0, 0, 0, 0, 0, 0, 0, 0, 0, 0], 'tml': [0, 0, 0, 0, 0, 0, 0, 0, 0, 0, 0, 0, 0, 0, 0, 0, 0, 0, 0, 0, 0, 0, 0, 0, 0, 2, 1, 0, 0, 3, 2, 2, 2, 5, 6, 0, 0, 0, 0, 0, 2, 3, 0, 0, 3, 1, 1, 0, 0, 0, 1, 2, 6, 2, 0, 3, 0, 0, 0, 0, 0, 1, 1, 2, 2, 1, 1, 3, 2, 1, 4, 0, 0, 1, 2, 2, 2, 2, 0, 0, 1, 1, 1, 3, 1, 1, 1, 1, 1, 2, 1, 6, 2, 4, 1, 1, 1, 0, 0, 0, 0, 0, 0, 0, 1, 2, 0, 3, 8, 2, 2, 1, 0, 0, 1, 2, 1, 2, 2, 2, 1, 0, 0, 0, 3, 3, 3, 3, 1, 2, 0, 0, 0, 0, 0, 0, 0, 0, 0, 0, 0, 0, 2, 1, 0, 0, 4, 0, 0, 2, 0, 20, 0, 0, 0, 0, 8, 0, 0, 0, 0, 0, 0, 0, 0, 0, 0, 0, 4, 0, 0, 4, 0, 0, 4, 6, 0, 0, 0, 4, 0, 0, 0, 0, 5, 0, 0, 0, 4, 0, 0, 0]}\n"
     ]
    }
   ],
   "source": [
    "fin='language.csv'\n",
    "dataset=[]\n",
    "upd_dataset=[]\n",
    "cnt=0\n",
    "with open(fin,errors='ignore') as file:\n",
    "    reader = csv.reader(file)\n",
    "    data = list(reader)\n",
    "#     print(data)\n",
    "#     dataset.append(data)\n",
    "#     cnt+=1\n",
    "#     if cnt>=1:\n",
    "#         break\n",
    "# #     dataset.append(data)\n",
    "    \n",
    "print(len(data))\n",
    "\n",
    "wals_lan=['ben','hin','tel','tml','guj','mhi','pan','mym','knd']\n",
    "lan_dict=dict()\n",
    "for row in data:\n",
    "    wals_code=row[0]\n",
    "    if wals_code in wals_lan:\n",
    "        cur_features=list()\n",
    "        for i in range(10,len(row)):\n",
    "            l=row[i].split()\n",
    "            if len(l)>1:\n",
    "                cur_features.append(int(l[0]))\n",
    "            else:\n",
    "                cur_features.append(int(0))\n",
    "\n",
    "\n",
    "                \n",
    "        lan_dict[wals_code]=cur_features\n",
    "             \n",
    "print(lan_dict)            \n"
   ]
  },
  {
   "cell_type": "code",
   "execution_count": 4,
   "metadata": {},
   "outputs": [],
   "source": [
    "def intersect(l1, l2):\n",
    "    \n",
    "    \n",
    "    for i in range(0,len(l1)):\n",
    "        \n",
    "        if l1[i]!=0 and l2[i]!=0:\n",
    "            continue\n",
    "        else:\n",
    "            l1[i]=0\n",
    "            l2[i]=0\n",
    "    return l1,l2\n",
    "            "
   ]
  },
  {
   "cell_type": "code",
   "execution_count": 5,
   "metadata": {},
   "outputs": [
    {
     "name": "stdout",
     "output_type": "stream",
     "text": [
      "{'ben': [0, 0, 0, 0, 0, 0, 0, 0, 0, 0, 0, 0, 0, 0, 0, 0, 0, 0, 0, 0, 0, 0, 0, 0, 0, 0, 0, 0, 0, 0, 0, 0, 0, 0, 0, 0, 0, 0, 0, 0, 0, 0, 0, 0, 0, 0, 1, 0, 0, 0, 0, 0, 0, 0, 0, 0, 0, 0, 0, 0, 0, 0, 0, 0, 0, 0, 0, 0, 0, 0, 0, 0, 0, 0, 0, 0, 0, 0, 0, 0, 1, 1, 1, 0, 0, 0, 0, 0, 0, 0, 0, 0, 0, 0, 0, 0, 0, 0, 0, 0, 0, 0, 0, 0, 0, 0, 0, 0, 0, 0, 0, 0, 0, 0, 0, 0, 0, 0, 0, 0, 0, 0, 0, 0, 0, 0, 0, 0, 0, 0, 0, 0, 0, 0, 0, 0, 0, 0, 0, 0, 0, 0, 1, 0, 0, 0, 4, 0, 0, 1, 0, 8, 0, 0, 0, 0, 8, 0, 0, 0, 0, 0, 0, 0, 0, 0, 0, 0, 4, 0, 0, 2, 0, 0, 4, 4, 0, 0, 0, 4, 0, 0, 0, 0, 0, 0, 0, 0, 0, 0, 0, 0], 'guj': [0, 0, 0, 0, 0, 0, 0, 0, 0, 0, 0, 0, 0, 0, 0, 0, 0, 0, 0, 0, 0, 0, 0, 0, 0, 0, 0, 0, 0, 0, 0, 0, 0, 0, 0, 0, 0, 0, 0, 0, 0, 0, 0, 0, 0, 0, 1, 0, 0, 0, 0, 0, 0, 0, 0, 0, 0, 0, 0, 0, 0, 0, 0, 0, 0, 0, 0, 0, 0, 0, 0, 0, 0, 0, 0, 0, 0, 0, 0, 0, 1, 1, 1, 0, 0, 0, 0, 0, 0, 0, 0, 0, 0, 0, 0, 0, 0, 0, 0, 0, 0, 0, 0, 0, 0, 0, 0, 0, 0, 0, 0, 0, 0, 0, 0, 0, 0, 0, 0, 0, 0, 0, 0, 0, 0, 0, 0, 0, 0, 0, 0, 0, 0, 0, 0, 0, 0, 0, 0, 0, 0, 0, 4, 0, 0, 0, 4, 0, 0, 11, 0, 7, 0, 0, 0, 0, 1, 0, 0, 0, 0, 0, 0, 0, 0, 0, 0, 0, 1, 0, 0, 1, 0, 0, 4, 3, 0, 0, 0, 4, 0, 0, 0, 0, 0, 0, 0, 0, 0, 0, 0, 0], 'hin': [0, 0, 0, 0, 0, 0, 0, 0, 0, 0, 0, 0, 0, 0, 0, 0, 0, 0, 0, 0, 0, 0, 0, 0, 0, 0, 0, 0, 0, 0, 0, 0, 0, 0, 0, 0, 0, 0, 0, 0, 0, 0, 0, 0, 0, 0, 1, 0, 0, 0, 0, 0, 0, 0, 0, 0, 0, 0, 0, 0, 0, 0, 0, 0, 0, 0, 0, 0, 0, 0, 0, 0, 0, 0, 0, 0, 0, 0, 0, 0, 1, 1, 1, 0, 0, 0, 0, 0, 0, 0, 0, 0, 0, 0, 0, 0, 0, 0, 0, 0, 0, 0, 0, 0, 0, 0, 0, 0, 0, 0, 0, 0, 0, 0, 0, 0, 0, 0, 0, 0, 0, 0, 0, 0, 0, 0, 0, 0, 0, 0, 0, 0, 0, 0, 0, 0, 0, 0, 0, 0, 0, 0, 4, 0, 0, 0, 4, 0, 0, 11, 0, 7, 0, 0, 0, 0, 1, 0, 0, 0, 0, 0, 0, 0, 0, 0, 0, 0, 1, 0, 0, 1, 0, 0, 4, 3, 0, 0, 0, 4, 0, 0, 0, 0, 0, 0, 0, 0, 0, 0, 0, 0], 'knd': [0, 0, 0, 0, 0, 0, 0, 0, 0, 0, 0, 0, 0, 0, 0, 0, 0, 0, 0, 0, 0, 0, 0, 0, 0, 0, 0, 0, 0, 0, 0, 0, 0, 0, 0, 0, 0, 0, 0, 0, 0, 0, 0, 0, 0, 0, 1, 0, 0, 0, 0, 0, 0, 0, 0, 0, 0, 0, 0, 0, 0, 0, 0, 0, 0, 0, 0, 0, 0, 0, 0, 0, 0, 0, 0, 0, 0, 0, 0, 0, 1, 1, 1, 0, 0, 0, 0, 0, 0, 0, 0, 0, 0, 0, 0, 0, 0, 0, 0, 0, 0, 0, 0, 0, 0, 0, 0, 0, 0, 0, 0, 0, 0, 0, 0, 0, 0, 0, 0, 0, 0, 0, 0, 0, 0, 0, 0, 0, 0, 0, 0, 0, 0, 0, 0, 0, 0, 0, 0, 0, 0, 0, 2, 0, 0, 0, 4, 0, 0, 2, 0, 20, 0, 0, 0, 0, 8, 0, 0, 0, 0, 0, 0, 0, 0, 0, 0, 0, 4, 0, 0, 4, 0, 0, 4, 6, 0, 0, 0, 4, 0, 0, 0, 0, 0, 0, 0, 0, 0, 0, 0, 0], 'mhi': [0, 0, 0, 0, 0, 0, 0, 0, 0, 0, 0, 0, 0, 0, 0, 0, 0, 0, 0, 0, 0, 0, 0, 0, 0, 0, 0, 0, 0, 0, 0, 0, 0, 0, 0, 0, 0, 0, 0, 0, 0, 0, 0, 0, 0, 0, 1, 0, 0, 0, 0, 0, 0, 0, 0, 0, 0, 0, 0, 0, 0, 0, 0, 0, 0, 0, 0, 0, 0, 0, 0, 0, 0, 0, 0, 0, 0, 0, 0, 0, 1, 1, 1, 0, 0, 0, 0, 0, 0, 0, 0, 0, 0, 0, 0, 0, 0, 0, 0, 0, 0, 0, 0, 0, 0, 0, 0, 0, 0, 0, 0, 0, 0, 0, 0, 0, 0, 0, 0, 0, 0, 0, 0, 0, 0, 0, 0, 0, 0, 0, 0, 0, 0, 0, 0, 0, 0, 0, 0, 0, 0, 0, 1, 0, 0, 0, 4, 0, 0, 1, 0, 8, 0, 0, 0, 0, 8, 0, 0, 0, 0, 0, 0, 0, 0, 0, 0, 0, 4, 0, 0, 2, 0, 0, 4, 4, 0, 0, 0, 4, 0, 0, 0, 0, 0, 0, 0, 0, 0, 0, 0, 0], 'mym': [0, 0, 0, 0, 0, 0, 0, 0, 0, 0, 0, 0, 0, 0, 0, 0, 0, 0, 0, 0, 0, 0, 0, 0, 0, 0, 0, 0, 0, 0, 0, 0, 0, 0, 0, 0, 0, 0, 0, 0, 0, 0, 0, 0, 0, 0, 1, 0, 0, 0, 0, 0, 0, 0, 0, 0, 0, 0, 0, 0, 0, 0, 0, 0, 0, 0, 0, 0, 0, 0, 0, 0, 0, 0, 0, 0, 0, 0, 0, 0, 1, 1, 1, 0, 0, 0, 0, 0, 0, 0, 0, 0, 0, 0, 0, 0, 0, 0, 0, 0, 0, 0, 0, 0, 0, 0, 0, 0, 0, 0, 0, 0, 0, 0, 0, 0, 0, 0, 0, 0, 0, 0, 0, 0, 0, 0, 0, 0, 0, 0, 0, 0, 0, 0, 0, 0, 0, 0, 0, 0, 0, 0, 2, 0, 0, 0, 4, 0, 0, 2, 0, 20, 0, 0, 0, 0, 8, 0, 0, 0, 0, 0, 0, 0, 0, 0, 0, 0, 4, 0, 0, 4, 0, 0, 4, 6, 0, 0, 0, 4, 0, 0, 0, 0, 0, 0, 0, 0, 0, 0, 0, 0], 'pan': [0, 0, 0, 0, 0, 0, 0, 0, 0, 0, 0, 0, 0, 0, 0, 0, 0, 0, 0, 0, 0, 0, 0, 0, 0, 0, 0, 0, 0, 0, 0, 0, 0, 0, 0, 0, 0, 0, 0, 0, 0, 0, 0, 0, 0, 0, 1, 0, 0, 0, 0, 0, 0, 0, 0, 0, 0, 0, 0, 0, 0, 0, 0, 0, 0, 0, 0, 0, 0, 0, 0, 0, 0, 0, 0, 0, 0, 0, 0, 0, 1, 1, 1, 0, 0, 0, 0, 0, 0, 0, 0, 0, 0, 0, 0, 0, 0, 0, 0, 0, 0, 0, 0, 0, 0, 0, 0, 0, 0, 0, 0, 0, 0, 0, 0, 0, 0, 0, 0, 0, 0, 0, 0, 0, 0, 0, 0, 0, 0, 0, 0, 0, 0, 0, 0, 0, 0, 0, 0, 0, 0, 0, 4, 0, 0, 0, 4, 0, 0, 11, 0, 7, 0, 0, 0, 0, 1, 0, 0, 0, 0, 0, 0, 0, 0, 0, 0, 0, 1, 0, 0, 1, 0, 0, 4, 3, 0, 0, 0, 4, 0, 0, 0, 0, 0, 0, 0, 0, 0, 0, 0, 0], 'tel': [0, 0, 0, 0, 0, 0, 0, 0, 0, 0, 0, 0, 0, 0, 0, 0, 0, 0, 0, 0, 0, 0, 0, 0, 0, 0, 0, 0, 0, 0, 0, 0, 0, 0, 0, 0, 0, 0, 0, 0, 0, 0, 0, 0, 0, 0, 1, 0, 0, 0, 0, 0, 0, 0, 0, 0, 0, 0, 0, 0, 0, 0, 0, 0, 0, 0, 0, 0, 0, 0, 0, 0, 0, 0, 0, 0, 0, 0, 0, 0, 1, 1, 1, 0, 0, 0, 0, 0, 0, 0, 0, 0, 0, 0, 0, 0, 0, 0, 0, 0, 0, 0, 0, 0, 0, 0, 0, 0, 0, 0, 0, 0, 0, 0, 0, 0, 0, 0, 0, 0, 0, 0, 0, 0, 0, 0, 0, 0, 0, 0, 0, 0, 0, 0, 0, 0, 0, 0, 0, 0, 0, 0, 2, 0, 0, 0, 4, 0, 0, 2, 0, 20, 0, 0, 0, 0, 8, 0, 0, 0, 0, 0, 0, 0, 0, 0, 0, 0, 4, 0, 0, 4, 0, 0, 4, 6, 0, 0, 0, 4, 0, 0, 0, 0, 0, 0, 0, 0, 0, 0, 0, 0], 'tml': [0, 0, 0, 0, 0, 0, 0, 0, 0, 0, 0, 0, 0, 0, 0, 0, 0, 0, 0, 0, 0, 0, 0, 0, 0, 0, 0, 0, 0, 0, 0, 0, 0, 0, 0, 0, 0, 0, 0, 0, 0, 0, 0, 0, 0, 0, 1, 0, 0, 0, 0, 0, 0, 0, 0, 0, 0, 0, 0, 0, 0, 0, 0, 0, 0, 0, 0, 0, 0, 0, 0, 0, 0, 0, 0, 0, 0, 0, 0, 0, 1, 1, 1, 0, 0, 0, 0, 0, 0, 0, 0, 0, 0, 0, 0, 0, 0, 0, 0, 0, 0, 0, 0, 0, 0, 0, 0, 0, 0, 0, 0, 0, 0, 0, 0, 0, 0, 0, 0, 0, 0, 0, 0, 0, 0, 0, 0, 0, 0, 0, 0, 0, 0, 0, 0, 0, 0, 0, 0, 0, 0, 0, 2, 0, 0, 0, 4, 0, 0, 2, 0, 20, 0, 0, 0, 0, 8, 0, 0, 0, 0, 0, 0, 0, 0, 0, 0, 0, 4, 0, 0, 4, 0, 0, 4, 6, 0, 0, 0, 4, 0, 0, 0, 0, 0, 0, 0, 0, 0, 0, 0, 0]}\n"
     ]
    }
   ],
   "source": [
    "for k in lan_dict:\n",
    "    for l in lan_dict:\n",
    "        if k!=l:\n",
    "            cur_l1=lan_dict[k]\n",
    "            cur_l2=lan_dict[l]\n",
    "            new_l1,new_l2=intersect(cur_l1,cur_l2)\n",
    "            lan_dict[k]=new_l1\n",
    "            lan_dict[l]=new_l2\n",
    "\n",
    "print(lan_dict)"
   ]
  },
  {
   "cell_type": "code",
   "execution_count": 6,
   "metadata": {},
   "outputs": [
    {
     "name": "stdout",
     "output_type": "stream",
     "text": [
      "[0, 0, 4, 0, 2, 0, 9]\n",
      "[0, 0, 7, 0, 1, 0, 4]\n"
     ]
    }
   ],
   "source": [
    "list1=[1,0,4,0,2,0,9]\n",
    "list2=[0,3,7,9,1,10,4]\n",
    "list1,list2=intersect(list1,list2)\n",
    "print(list1)\n",
    "print(list2)"
   ]
  },
  {
   "cell_type": "code",
   "execution_count": 7,
   "metadata": {},
   "outputs": [
    {
     "name": "stdout",
     "output_type": "stream",
     "text": [
      "14\n",
      "14\n",
      "14\n",
      "14\n",
      "14\n",
      "14\n",
      "14\n",
      "14\n",
      "14\n"
     ]
    }
   ],
   "source": [
    "for k in lan_dict:\n",
    "    cur_l=lan_dict[k]\n",
    "    count=0\n",
    "    for val in cur_l:\n",
    "        if val!=0:\n",
    "            count+=1\n",
    "            \n",
    "    print(count)"
   ]
  },
  {
   "cell_type": "code",
   "execution_count": 8,
   "metadata": {},
   "outputs": [],
   "source": [
    "def removeZeroes(l):\n",
    "    new_l=list()\n",
    "    \n",
    "    for i in l:\n",
    "        if i!=0:\n",
    "            new_l.append(i)\n",
    "    return new_l"
   ]
  },
  {
   "cell_type": "code",
   "execution_count": 9,
   "metadata": {},
   "outputs": [
    {
     "name": "stdout",
     "output_type": "stream",
     "text": [
      "{'ben': [1, 1, 1, 1, 1, 4, 1, 8, 8, 4, 2, 4, 4, 4], 'guj': [1, 1, 1, 1, 4, 4, 11, 7, 1, 1, 1, 4, 3, 4], 'hin': [1, 1, 1, 1, 4, 4, 11, 7, 1, 1, 1, 4, 3, 4], 'knd': [1, 1, 1, 1, 2, 4, 2, 20, 8, 4, 4, 4, 6, 4], 'mhi': [1, 1, 1, 1, 1, 4, 1, 8, 8, 4, 2, 4, 4, 4], 'mym': [1, 1, 1, 1, 2, 4, 2, 20, 8, 4, 4, 4, 6, 4], 'pan': [1, 1, 1, 1, 4, 4, 11, 7, 1, 1, 1, 4, 3, 4], 'tel': [1, 1, 1, 1, 2, 4, 2, 20, 8, 4, 4, 4, 6, 4], 'tml': [1, 1, 1, 1, 2, 4, 2, 20, 8, 4, 4, 4, 6, 4]}\n"
     ]
    }
   ],
   "source": [
    "for k in lan_dict:\n",
    "    lan_dict[k]=removeZeroes(lan_dict[k])\n",
    "    \n",
    "print(lan_dict)"
   ]
  },
  {
   "cell_type": "code",
   "execution_count": 10,
   "metadata": {},
   "outputs": [
    {
     "name": "stdout",
     "output_type": "stream",
     "text": [
      "{'id': 'ascii_name', 'akb': 'akabiada', 'akc': 'akacari', 'akk': 'akakede', 'agm': 'angami', 'ao': 'ao', 'apt': 'apatani', 'apk': 'apucikwar', 'ass': 'assamese', 'awd': 'awadhi', 'bdg': 'badaga', 'bgi': 'bagri', 'blt': 'balti', 'baw': 'bawm', 'ben': 'bengali', 'bkb': 'betta kurumba', 'bhi': 'bhili', 'bho': 'bhojpuri', 'bhu': 'bhumij', 'bod': 'bodo', 'boq': 'bokar', 'boj': 'bori', 'bkt': 'brokskat', 'bgn': 'bugun', 'ghr': 'bunan', 'bya': 'byansi', 'chg': 'chang', 'chd': 'chaudangsi', 'cmr': 'chin mara', 'drm': 'darma', 'deu': 'deuri', 'dig': 'digaro', 'dms': 'dimasa', 'dgi': 'dogri', 'gdk': 'gadaba kondekor', 'gal': 'galo', 'gar': 'garo', 'goj': 'gojri', 'gon': 'gondi', 'gan': 'great andamanese', 'guj': 'gujarati', 'gdb': 'gutob', 'hlb': 'halbi', 'hin': 'hindi', 'hma': 'hmar', 'ho': 'ho', 'idu': 'idu', 'ipi': 'indopakistani sign language indian dialects', 'jad': 'jad', 'jrw': 'jarawa in andamans', 'joh': 'johari', 'jun': 'juang', 'jug': 'jugli', 'kbi': 'kabui', 'kac': 'kachari', 'xns': 'kanashi', 'knd': 'kannada', 'kas': 'kashmiri', 'khg': 'khaling', 'khr': 'kharia', 'khs': 'khasi', 'knn': 'kinnauri', 'kod': 'kodava', 'kok': 'kokborok', 'kkz': 'kokni', 'kol': 'kolami', 'kda': 'konda', 'kkn': 'konkani', 'kku': 'korku', 'kot': 'kota', 'koy': 'koya', 'kui': 'kui in india', 'kum': 'kumauni', 'kur': 'kurukh', 'kuv': 'kuvi', 'lad': 'ladakhi', 'lmn': 'lamani', 'lep': 'lepcha', 'lim': 'limbu', 'lot': 'lotha', 'lun': 'lungchang', 'mgh': 'magahi', 'mai': 'maithili', 'mym': 'malayalam', 'mto': 'malto', 'mhi': 'marathi', 'mrc': 'marchha', 'mwc': 'mawchi', 'mei': 'meithei', 'mij': 'miju', 'mik': 'mikir', 'mil': 'milang', 'mhl': 'miri hill', 'msg': 'mising', 'miz': 'mizo', 'mun': 'mundari', 'nma': 'naga mao', 'npn': 'naga pidgin', 'ngt': 'naga tangkhul', 'nze': 'naga zeme', 'nah': 'nahali', 'nnc': 'nancowry', 'nic': 'nicobarese', 'nca': 'nicobarese car', 'noc': 'nocte', 'nyk': 'nyamkad', 'nis': 'nyishi', 'ong': 'onge', 'oya': 'oriya', 'oko': 'oriya kotia', 'pte': 'paite', 'pan': 'panjabi', 'prd': 'parji dravidian', 'ptt': 'pattani', 'pen': 'pengo', 'prk': 'purki', 'rji': 'raji', 'ral': 'ralte', 'rem': 'remo', 'stl': 'santali', 'sem': 'sema', 'skw': 'shekhawati', 'shd': 'sherdukpen', 'smp': 'shompen', 'skk': 'sikkimese', 'sdh': 'sindhi', 'sor': 'sora', 'spi': 'spitian', 'slg': 'sulung', 'tml': 'tamil', 'tsp': 'tamil spoken', 'tao': 'tarao', 'tel': 'telugu', 'thd': 'thadou', 'tni': 'tinani', 'tod': 'tod', 'tda': 'toda', 'tgl': 'tshangla', 'tul': 'tulu', 'tvt': 'tutsa', 'vas': 'vasavi'}\n"
     ]
    }
   ],
   "source": [
    "fin='indian_languages.csv'\n",
    "ind_data=[]\n",
    "with open(fin,errors='ignore') as file:\n",
    "    reader = csv.reader(file)\n",
    "    ind_data=list(reader)\n",
    "\n",
    "ind_lan_dict=dict()   \n",
    "for row in ind_data:\n",
    "    ind_lan_dict[row[3]]=row[0]\n",
    "print(ind_lan_dict)\n",
    "    "
   ]
  },
  {
   "cell_type": "code",
   "execution_count": null,
   "metadata": {},
   "outputs": [],
   "source": []
  },
  {
   "cell_type": "code",
   "execution_count": 11,
   "metadata": {},
   "outputs": [
    {
     "name": "stdout",
     "output_type": "stream",
     "text": [
      "Cosine similarity between ben and guj - 0.64\n",
      "Cosine similarity between ben and hin - 0.64\n",
      "Cosine similarity between ben and knd - 0.91\n",
      "Cosine similarity between ben and mhi - 1.0\n",
      "Cosine similarity between ben and mym - 0.91\n",
      "Cosine similarity between ben and pan - 0.64\n",
      "Cosine similarity between ben and tel - 0.91\n",
      "Cosine similarity between ben and tml - 0.91\n",
      "Cosine similarity between guj and hin - 1.0\n",
      "Cosine similarity between guj and knd - 0.67\n",
      "Cosine similarity between guj and mhi - 0.64\n",
      "Cosine similarity between guj and mym - 0.67\n",
      "Cosine similarity between guj and pan - 1.0\n",
      "Cosine similarity between guj and tel - 0.67\n",
      "Cosine similarity between guj and tml - 0.67\n",
      "Cosine similarity between hin and knd - 0.67\n",
      "Cosine similarity between hin and mhi - 0.64\n",
      "Cosine similarity between hin and mym - 0.67\n",
      "Cosine similarity between hin and pan - 1.0\n",
      "Cosine similarity between hin and tel - 0.67\n",
      "Cosine similarity between hin and tml - 0.67\n",
      "Cosine similarity between knd and mhi - 0.91\n",
      "Cosine similarity between knd and mym - 1.0\n",
      "Cosine similarity between knd and pan - 0.67\n",
      "Cosine similarity between knd and tel - 1.0\n",
      "Cosine similarity between knd and tml - 1.0\n",
      "Cosine similarity between mhi and mym - 0.91\n",
      "Cosine similarity between mhi and pan - 0.64\n",
      "Cosine similarity between mhi and tel - 0.91\n",
      "Cosine similarity between mhi and tml - 0.91\n",
      "Cosine similarity between mym and pan - 0.67\n",
      "Cosine similarity between mym and tel - 1.0\n",
      "Cosine similarity between mym and tml - 1.0\n",
      "Cosine similarity between pan and tel - 0.67\n",
      "Cosine similarity between pan and tml - 0.67\n",
      "Cosine similarity between tel and tml - 1.0\n"
     ]
    }
   ],
   "source": [
    "import matplotlib.pyplot as plt\n",
    "from sklearn.datasets import load_digits\n",
    "from sklearn.decomposition import PCA\n",
    "from sklearn.cluster import KMeans\n",
    "from sklearn import preprocessing\n",
    "from sklearn.preprocessing import StandardScaler\n",
    "from sklearn.preprocessing import MinMaxScaler\n",
    "import numpy as np\n",
    "from scipy.cluster.hierarchy import dendrogram\n",
    "from sklearn.cluster import AgglomerativeClustering\n",
    "\n",
    "dataset=[]\n",
    "lan_names=[]\n",
    "lan_codes=[]\n",
    "for lan in lan_dict:\n",
    "    lan_codes.append(lan)\n",
    "    lan_names.append(ind_lan_dict[lan])\n",
    "    fv=lan_dict[lan]\n",
    "    dataset.append(fv)\n",
    "\n",
    "dataset_array=np.array(dataset)\n",
    "\n",
    "# print(dataset_array)\n",
    "# scaler = StandardScaler()\n",
    "\n",
    "# scaler.fit(dataset_array)\n",
    "# print(scaler.mean_)\n",
    "# dataset_array=scaler.transform(dataset_array)\n",
    "# print(dataset_array)\n",
    "\n",
    "\n",
    "\n",
    "# print(dataset_array)\n",
    "# scaler = MinMaxScaler()\n",
    "\n",
    "# scaler.fit(dataset_array)\n",
    "# print(scaler.data_max_)\n",
    "# dataset_array=scaler.transform(dataset_array)\n",
    "# print(dataset_array)\n",
    "\n",
    "\n",
    "# dataset_array = preprocessing.scale(dataset_array)\n",
    "# print(dataset_array)\n",
    "# print('Bengali -Hindi',calculateCosineSimilarity(dataset_array[0],dataset_array[1]))\n",
    "# print('Bengali-  Telegu',calculateCosineSimilarity(dataset_array[0],dataset_array[2]))\n",
    "# print('Hindi - Telegu',calculateCosineSimilarity(dataset_array[1],dataset_array[2]))\n",
    "\n",
    "for i in range(0,len(dataset_array)):\n",
    "    for j in range(0,len(dataset_array)):\n",
    "        if i<j:\n",
    "            print('Cosine similarity between',lan_codes[i],'and',lan_codes[j],'-',round(calculateCosineSimilarity(dataset_array[i],dataset_array[j]),2))\n",
    "                "
   ]
  },
  {
   "cell_type": "code",
   "execution_count": 12,
   "metadata": {},
   "outputs": [
    {
     "name": "stdout",
     "output_type": "stream",
     "text": [
      "[0 0 0 1 0 1 0 1 1]\n",
      "['ben', 'guj', 'hin', 'knd', 'mhi', 'mym', 'pan', 'tel', 'tml']\n"
     ]
    }
   ],
   "source": [
    "#Import KMeans module\n",
    "from sklearn.cluster import KMeans\n",
    " \n",
    "#Initialize the class object\n",
    "kmeans = KMeans(n_clusters= 2)\n",
    " \n",
    "#predict the labels of clusters.\n",
    "label = kmeans.fit_predict(dataset_array)\n",
    "print(label)\n",
    "print(lan_codes)"
   ]
  },
  {
   "cell_type": "code",
   "execution_count": 13,
   "metadata": {},
   "outputs": [
    {
     "name": "stdout",
     "output_type": "stream",
     "text": [
      "[0 0 0 1 0 1 0 1 1]\n",
      "[2 1 1 0 2 0 1 0 0]\n",
      "[2 1 1 0 2 0 1 0 3]\n",
      "[2 1 1 0 2 0 1 4 3]\n",
      "[2 0 0 5 2 3 0 4 1]\n",
      "[2 0 0 5 2 3 6 4 1]\n"
     ]
    }
   ],
   "source": [
    "from sklearn.cluster import AgglomerativeClustering\n",
    "\n",
    "for i in range(2,8):\n",
    "    clustering = AgglomerativeClustering(n_clusters= i).fit(dataset_array)\n",
    "    print(clustering.labels_)\n"
   ]
  },
  {
   "cell_type": "code",
   "execution_count": 14,
   "metadata": {},
   "outputs": [],
   "source": [
    "def plot_dendrogram(model, **kwargs):\n",
    "    # Create linkage matrix and then plot the dendrogram\n",
    "\n",
    "    # create the counts of samples under each node\n",
    "    counts = np.zeros(model.children_.shape[0])\n",
    "    n_samples = len(model.labels_)\n",
    "    for i, merge in enumerate(model.children_):\n",
    "        current_count = 0\n",
    "        for child_idx in merge:\n",
    "            if child_idx < n_samples:\n",
    "                current_count += 1  # leaf node\n",
    "            else:\n",
    "                current_count += counts[child_idx - n_samples]\n",
    "        counts[i] = current_count\n",
    "\n",
    "    linkage_matrix = np.column_stack(\n",
    "        [model.children_, model.distances_, counts]\n",
    "    ).astype(float)\n",
    "\n",
    "    # Plot the corresponding dendrogram\n",
    "    dendrogram(linkage_matrix, **kwargs)"
   ]
  },
  {
   "cell_type": "code",
   "execution_count": 17,
   "metadata": {},
   "outputs": [
    {
     "name": "stdout",
     "output_type": "stream",
     "text": [
      "[2 1 1 0 2 0 1 0 0]\n"
     ]
    },
    {
     "data": {
      "image/png": "[encoded data removed]",
      "text/plain": [
       "<Figure size 720x720 with 1 Axes>"
      ]
     },
     "metadata": {
      "needs_background": "light"
     },
     "output_type": "display_data"
    }
   ],
   "source": [
    "plt.rcParams[\"figure.figsize\"] = (10,10)\n",
    "model = AgglomerativeClustering(distance_threshold=0.1, n_clusters=None)\n",
    "\n",
    "model = model.fit(dataset_array)\n",
    "print(model.labels_)\n",
    "plt.title(\"Hierarchical Clustering Dendrogram\")\n",
    "# plot the top three levels of the dendrogram\n",
    "plot_dendrogram(model, truncate_mode=\"level\", p=4, labels=lan_names)\n",
    "plt.xlabel(\"Number of points in node (or index of point if no parenthesis).\")\n",
    "#plt.ylim([0,0.000000000000000000000006])\n",
    "# plt.yticks([-1,0,0.5,1, 5 ,10, 15, 20, 25, 30, 35])\n",
    "plt.show()"
   ]
  },
  {
   "cell_type": "code",
   "execution_count": 16,
   "metadata": {},
   "outputs": [
    {
     "name": "stdout",
     "output_type": "stream",
     "text": [
      "[8 7 6 5 4 3 2 1 0]\n"
     ]
    },
    {
     "data": {
      "image/png": "[encoded data removed]",
      "text/plain": [
       "<Figure size 1080x1080 with 1 Axes>"
      ]
     },
     "metadata": {
      "needs_background": "light"
     },
     "output_type": "display_data"
    }
   ],
   "source": [
    "plt.rcParams[\"figure.figsize\"] = (15,15)\n",
    "model = AgglomerativeClustering(distance_threshold=0, n_clusters=None)\n",
    "\n",
    "model = model.fit(dataset_array)\n",
    "print(model.labels_)\n",
    "plt.title(\"Hierarchical Clustering Dendrogram\")\n",
    "# plot the top three levels of the dendrogram\n",
    "plot_dendrogram(model, truncate_mode=\"level\", p=4, labels=lan_names)\n",
    "plt.xlabel(\"Number of points in node (or index of point if no parenthesis).\")\n",
    "plt.show()"
   ]
  },
  {
   "cell_type": "code",
   "execution_count": null,
   "metadata": {},
   "outputs": [],
   "source": []
  },
  {
   "cell_type": "code",
   "execution_count": null,
   "metadata": {},
   "outputs": [],
   "source": []
  }
 ],
 "metadata": {
  "kernelspec": {
   "display_name": "Python 3",
   "language": "python",
   "name": "python3"
  },
  "language_info": {
   "codemirror_mode": {
    "name": "ipython",
    "version": 3
   },
   "file_extension": ".py",
   "mimetype": "text/x-python",
   "name": "python",
   "nbconvert_exporter": "python",
   "pygments_lexer": "ipython3",
   "version": "3.8.5"
  }
 },
 "nbformat": 4,
 "nbformat_minor": 4
}
